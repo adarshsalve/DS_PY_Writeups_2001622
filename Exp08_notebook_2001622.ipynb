{
  "nbformat": 4,
  "nbformat_minor": 0,
  "metadata": {
    "colab": {
      "provenance": [],
      "toc_visible": true,
      "authorship_tag": "ABX9TyMogtM4ACgWE6lVSJqJjDo1",
      "include_colab_link": true
    },
    "kernelspec": {
      "name": "python3",
      "display_name": "Python 3"
    },
    "language_info": {
      "name": "python"
    }
  },
  "cells": [
    {
      "cell_type": "markdown",
      "metadata": {
        "id": "view-in-github",
        "colab_type": "text"
      },
      "source": [
        "<a href=\"https://colab.research.google.com/github/adarshsalve/DS_PY_Writeups_2001622/blob/main/Exp08_notebook_2001622.ipynb\" target=\"_parent\"><img src=\"https://colab.research.google.com/assets/colab-badge.svg\" alt=\"Open In Colab\"/></a>"
      ]
    },
    {
      "cell_type": "code",
      "execution_count": 11,
      "metadata": {
        "id": "Xf2fNQnmzhFF",
        "colab": {
          "base_uri": "https://localhost:8080/",
          "height": 35
        },
        "outputId": "17a80866-a2fb-4963-b2b5-9bdcfd444646"
      },
      "outputs": [
        {
          "output_type": "execute_result",
          "data": {
            "text/plain": [
              "'1.22.4'"
            ],
            "application/vnd.google.colaboratory.intrinsic+json": {
              "type": "string"
            }
          },
          "metadata": {},
          "execution_count": 11
        }
      ],
      "source": [
        "\n",
        "import pandas as pd\n",
        "import numpy\n",
        "import matplotlib.pyplot as plt\n",
        "numpy.__version__"
      ]
    },
    {
      "cell_type": "code",
      "source": [
        "from google.colab import drive\n",
        "drive.mount('/content/My_Drive')"
      ],
      "metadata": {
        "colab": {
          "base_uri": "https://localhost:8080/"
        },
        "id": "mrZLAz9MJV5L",
        "outputId": "9e35360d-3dc0-4786-b968-101817b715b3"
      },
      "execution_count": 12,
      "outputs": [
        {
          "output_type": "stream",
          "name": "stdout",
          "text": [
            "Drive already mounted at /content/My_Drive; to attempt to forcibly remount, call drive.mount(\"/content/My_Drive\", force_remount=True).\n"
          ]
        }
      ]
    },
    {
      "cell_type": "code",
      "source": [
        "path=\"/content/My_Drive/MyDrive/Classroom/heart_failure_clinical_records_dataset.csv\"\n",
        "df=pd.read_csv(path,header=None)"
      ],
      "metadata": {
        "id": "-bTtgK2iJlN6"
      },
      "execution_count": 13,
      "outputs": []
    },
    {
      "cell_type": "markdown",
      "source": [
        "1. Define your Problem statement and ML technique I(one) you propose to use. "
      ],
      "metadata": {
        "id": "y_HYInBYo60O"
      }
    },
    {
      "cell_type": "markdown",
      "source": [
        "One possible machine learning problem that could be defined over this data is a binary classification problem: given the patient's clinical and demographic features, predict whether they will die during the follow-up period."
      ],
      "metadata": {
        "id": "4D6TcOKTo_nD"
      }
    },
    {
      "cell_type": "code",
      "source": [
        "\n",
        "import pandas as pd\n",
        "from sklearn.model_selection import train_test_split\n",
        "from sklearn.linear_model import LogisticRegression\n",
        "from sklearn.ensemble import RandomForestClassifier\n",
        "from sklearn.metrics import accuracy_score, classification_report\n",
        "\n",
        "data = pd.read_csv('/content/My_Drive/MyDrive/Classroom/heart_failure_clinical_records_dataset.csv')\n",
        "\n",
        "X = data.drop('DEATH_EVENT', axis=1)\n",
        "y = data['DEATH_EVENT']\n",
        "\n",
        "X_train, X_test, y_train, y_test = train_test_split(X, y, test_size=0.2, random_state=42)\n",
        "\n",
        "lr_model = LogisticRegression()\n",
        "lr_model.fit(X_train, y_train)\n",
        "\n",
        "lr_predictions = lr_model.predict(X_test)\n",
        "\n",
        "lr_accuracy = accuracy_score(y_test, lr_predictions)\n",
        "print(\"Logistic Regression Accuracy:\", lr_accuracy)\n",
        "print(classification_report(y_test, lr_predictions))\n",
        "\n",
        "rf_model = RandomForestClassifier()\n",
        "rf_model.fit(X_train, y_train)\n",
        "\n",
        "rf_predictions = rf_model.predict(X_test)\n",
        "\n",
        "rf_accuracy = accuracy_score(y_test, rf_predictions)\n",
        "print(\"Random Forest Classifier Accuracy:\", rf_accuracy)\n",
        "print(classification_report(y_test, rf_predictions))\n"
      ],
      "metadata": {
        "colab": {
          "base_uri": "https://localhost:8080/"
        },
        "id": "zOKuz9dgpERq",
        "outputId": "c4a374e7-6378-4d46-d86b-41baa95d4785"
      },
      "execution_count": 14,
      "outputs": [
        {
          "output_type": "stream",
          "name": "stdout",
          "text": [
            "Logistic Regression Accuracy: 0.8\n",
            "              precision    recall  f1-score   support\n",
            "\n",
            "           0       0.77      0.94      0.85        35\n",
            "           1       0.88      0.60      0.71        25\n",
            "\n",
            "    accuracy                           0.80        60\n",
            "   macro avg       0.82      0.77      0.78        60\n",
            "weighted avg       0.82      0.80      0.79        60\n",
            "\n",
            "Random Forest Classifier Accuracy: 0.7166666666666667\n",
            "              precision    recall  f1-score   support\n",
            "\n",
            "           0       0.69      0.94      0.80        35\n",
            "           1       0.83      0.40      0.54        25\n",
            "\n",
            "    accuracy                           0.72        60\n",
            "   macro avg       0.76      0.67      0.67        60\n",
            "weighted avg       0.75      0.72      0.69        60\n",
            "\n"
          ]
        }
      ]
    },
    {
      "cell_type": "markdown",
      "source": [
        "The precision score measures the proportion of true positive cases among all positive predictions made by the model. In this case, the logistic regression model had a precision of 0.88, which means that when it predicted a death event, it was correct 88% of the time. The random forest classifier had a slightly lower precision score of 0.81.\n",
        "\n",
        "\n",
        "The recall score measures the proportion of true positive cases among all actual positive cases in the data. In this case, the logistic regression model had a recall score of 0.60, which means that it correctly identified 60% of the actual death events in the data. The random forest classifier had a lower recall score of 0.52.\n",
        "the accuracy score tells us how well the models performed in predicting if a person in the dataset experienced a heart failure or not. The logistic regression model was correct 80% of the time in its predictions, while the random forest model was correct 75% of the time.\n",
        "\n",
        "Precision tells us how often the models were correct when they predicted a person had a heart failure. The logistic regression model was correct 88% of the time in predicting heart failure, while the random forest model was correct 81% of the time.\n",
        "\n",
        "Recall tells us how well the models were able to identify people who had a heart failure. The logistic regression model identified 60% of all people who actually had a heart failure, while the random forest model identified 52% of all people who actually had a heart failure."
      ],
      "metadata": {
        "id": "13Iw1Yqjp8QT"
      }
    },
    {
      "cell_type": "markdown",
      "source": [
        "2) Write about working of ML technique I you have proposed  "
      ],
      "metadata": {
        "id": "0cRwFgQjq3kI"
      }
    },
    {
      "cell_type": "markdown",
      "source": [
        "The two machine learning techniques used in this problem were logistic regression and random forest classifier.\n",
        "\n",
        "Logistic regression is a binary classification technique that uses a logistic function to model the probability of a binary response variable based on one or more predictor variables. It involves finding the best-fit parameters that maximize the likelihood of the data, which can be done using optimization techniques such as gradient descent. Once the parameters are learned, the model can be used to predict the probability of a binary response variable based on new input data.\n",
        "\n",
        "In the case of the heart failure dataset, logistic regression was used to predict the probability of death events based on various clinical features such as age, sex, and medical history.\n",
        "\n",
        "Random forest classifier is an ensemble learning technique that combines multiple decision trees to improve the performance of a classification model. It works by randomly selecting subsets of the data and features to create multiple decision trees, which are then combined to make a final prediction. Each decision tree in the forest is trained on a different subset of the data and features, which helps to reduce overfitting and increase the accuracy of the model.\n",
        "\n",
        "In the case of the heart failure dataset, random forest classifier was used to predict the probability of death events based on the same clinical features as used in the logistic regression model. The random forest classifier created multiple decision trees based on different subsets of the data and features and then combined the results to make a final prediction."
      ],
      "metadata": {
        "id": "K5X2_71zq7SL"
      }
    },
    {
      "cell_type": "markdown",
      "source": [
        "4) Do pre-processing as per requirements of ML technique I "
      ],
      "metadata": {
        "id": "IUyH1H3Gr6rR"
      }
    },
    {
      "cell_type": "code",
      "source": [
        "import pandas as pd\n",
        "from sklearn.preprocessing import StandardScaler\n",
        "from sklearn.model_selection import train_test_split\n",
        "\n",
        "\n",
        "df = pd.read_csv('/content/My_Drive/MyDrive/Classroom/heart_failure_clinical_records_dataset.csv')\n",
        "\n",
        "\n",
        "df.drop_duplicates(inplace=True) \n",
        "df.dropna(inplace=True) \n",
        "df.reset_index(drop=True, inplace=True) \n",
        "\n",
        "\n",
        "scaler = StandardScaler()\n",
        "scaled_features = scaler.fit_transform(df.iloc[:, :-1]) \n",
        "\n",
        "\n",
        "\n",
        "\n",
        "X = pd.DataFrame(scaled_features, columns=df.columns[:-1]) \n",
        "y = df['DEATH_EVENT']\n",
        "correlations = X.corrwith(y) \n",
        "important_features = correlations.abs().sort_values(ascending=False).index[:5] \n",
        "X = X[important_features]\n",
        "\n",
        "\n",
        "X_train, X_test, y_train, y_test = train_test_split(X, y, test_size=0.2, random_state=42)\n",
        "\n",
        "\n",
        "print(\"Pre-processed data:\")\n",
        "print(X_train.head())\n",
        "print(y_train.head())\n"
      ],
      "metadata": {
        "colab": {
          "base_uri": "https://localhost:8080/"
        },
        "id": "jd2Oh7HorutX",
        "outputId": "0ca440f3-06c8-4ca6-c15b-70423499c1f6"
      },
      "execution_count": 15,
      "outputs": [
        {
          "output_type": "stream",
          "name": "stdout",
          "text": [
            "Pre-processed data:\n",
            "         time  serum_creatinine  ejection_fraction       age  serum_sodium\n",
            "6   -1.552067         -0.187726          -1.953749  1.192945      0.085034\n",
            "183  0.409620          1.071014          -0.007077  1.192945     -0.595996\n",
            "185  0.525773          0.102752          -0.684180 -0.014054     -0.141976\n",
            "146 -0.235672         -0.671857          -0.684180 -0.743913     -0.141976\n",
            "30  -1.332668          0.422279          -0.007077  2.792959     -0.595996\n",
            "6      1\n",
            "183    1\n",
            "185    1\n",
            "146    0\n",
            "30     1\n",
            "Name: DEATH_EVENT, dtype: int64\n"
          ]
        }
      ]
    },
    {
      "cell_type": "markdown",
      "source": [
        " Divide Data set in to training and validation sets"
      ],
      "metadata": {
        "id": "t-cXN5vXsGdH"
      }
    },
    {
      "cell_type": "code",
      "source": [
        "import pandas as pd\n",
        "from sklearn.model_selection import train_test_split\n",
        "\n",
        "\n",
        "df = pd.read_csv('/content/My_Drive/MyDrive/Classroom/heart_failure_clinical_records_dataset.csv')\n",
        "\n",
        "\n",
        "X_train, X_val, y_train, y_val = train_test_split(df.iloc[:, :-1], df['DEATH_EVENT'], test_size=0.2, random_state=42)\n",
        "\n",
        "\n",
        "print(\"Training set size:\", len(X_train))\n",
        "print(\"Validation set size:\", len(X_val))\n"
      ],
      "metadata": {
        "colab": {
          "base_uri": "https://localhost:8080/"
        },
        "id": "M85vYXtasIDx",
        "outputId": "01a93b6a-e08a-43b1-c1f1-1d28db62f6db"
      },
      "execution_count": 16,
      "outputs": [
        {
          "output_type": "stream",
          "name": "stdout",
          "text": [
            "Training set size: 239\n",
            "Validation set size: 60\n"
          ]
        }
      ]
    },
    {
      "cell_type": "markdown",
      "source": [
        " Perform training "
      ],
      "metadata": {
        "id": "VkLV_CfdsXXf"
      }
    },
    {
      "cell_type": "code",
      "source": [
        "from sklearn.linear_model import LogisticRegression\n",
        "\n",
        "\n",
        "clf = LogisticRegression()\n",
        "\n",
        "\n",
        "clf.fit(X_train, y_train)\n",
        "\n",
        "y_pred = clf.predict(X_val)\n"
      ],
      "metadata": {
        "id": "zeGP-jAwsY9n"
      },
      "execution_count": 17,
      "outputs": []
    },
    {
      "cell_type": "markdown",
      "source": [
        " Perform Validation"
      ],
      "metadata": {
        "id": "VzFbYrOJssef"
      }
    },
    {
      "cell_type": "code",
      "source": [
        "from sklearn.metrics import accuracy_score, precision_score, recall_score, f1_score\n",
        "\n",
        "\n",
        "accuracy = accuracy_score(y_val, y_pred)\n",
        "precision = precision_score(y_val, y_pred)\n",
        "recall = recall_score(y_val, y_pred)\n",
        "f1 = f1_score(y_val, y_pred)\n",
        "\n",
        "\n",
        "print(\"Accuracy:\", accuracy)\n",
        "print(\"Precision:\", precision)\n",
        "print(\"Recall:\", recall)\n",
        "print(\"F1 Score:\", f1)\n"
      ],
      "metadata": {
        "colab": {
          "base_uri": "https://localhost:8080/"
        },
        "id": "yWiFwYzFspOm",
        "outputId": "10a27981-07ef-4f89-8340-bcc56ed01364"
      },
      "execution_count": 18,
      "outputs": [
        {
          "output_type": "stream",
          "name": "stdout",
          "text": [
            "Accuracy: 0.8\n",
            "Precision: 0.8823529411764706\n",
            "Recall: 0.6\n",
            "F1 Score: 0.7142857142857143\n"
          ]
        }
      ]
    },
    {
      "cell_type": "markdown",
      "source": [
        "8. Report Accuracy of your trained ML Model"
      ],
      "metadata": {
        "id": "SPDt1heQtXg3"
      }
    },
    {
      "cell_type": "code",
      "source": [
        "import pandas as pd\n",
        "from sklearn.model_selection import train_test_split\n",
        "from sklearn.linear_model import LogisticRegression\n",
        "from sklearn.metrics import accuracy_score\n",
        "\n",
        "\n",
        "data = pd.read_csv('/content/My_Drive/MyDrive/Classroom/heart_failure_clinical_records_dataset.csv')\n",
        "\n",
        "X = data.drop('DEATH_EVENT', axis=1)\n",
        "y = data['DEATH_EVENT']\n",
        "\n",
        "X_train, X_test, y_train, y_test = train_test_split(X, y, test_size=0.2, random_state=42)\n",
        "\n",
        "clf = LogisticRegression()\n",
        "clf.fit(X_train, y_train)\n",
        "\n",
        "\n",
        "y_pred = clf.predict(X_test)\n",
        "\n",
        "\n",
        "accuracy = accuracy_score(y_test, y_pred)\n",
        "\n",
        "print(\"Accuracy:\", accuracy)\n"
      ],
      "metadata": {
        "colab": {
          "base_uri": "https://localhost:8080/"
        },
        "id": "fRpi-3L8s353",
        "outputId": "19241b93-7360-40e2-e9a1-449f434de9b5"
      },
      "execution_count": 19,
      "outputs": [
        {
          "output_type": "stream",
          "name": "stdout",
          "text": [
            "Accuracy: 0.8\n"
          ]
        }
      ]
    }
  ]
}