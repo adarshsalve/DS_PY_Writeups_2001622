{
  "nbformat": 4,
  "nbformat_minor": 0,
  "metadata": {
    "colab": {
      "provenance": [],
      "authorship_tag": "ABX9TyNAjgbwsNfYoouSxOkqalb4",
      "include_colab_link": true
    },
    "kernelspec": {
      "name": "python3",
      "display_name": "Python 3"
    },
    "language_info": {
      "name": "python"
    }
  },
  "cells": [
    {
      "cell_type": "markdown",
      "metadata": {
        "id": "view-in-github",
        "colab_type": "text"
      },
      "source": [
        "<a href=\"https://colab.research.google.com/github/adarshsalve/DS_PY_Writeups_2001622/blob/main/Exp09_notebook_2001622.ipynb\" target=\"_parent\"><img src=\"https://colab.research.google.com/assets/colab-badge.svg\" alt=\"Open In Colab\"/></a>"
      ]
    },
    {
      "cell_type": "code",
      "execution_count": 69,
      "metadata": {
        "colab": {
          "base_uri": "https://localhost:8080/",
          "height": 36
        },
        "id": "KfXi2nm4qFQP",
        "outputId": "8715f851-f2f0-4e7b-b747-42a6280b8a00"
      },
      "outputs": [
        {
          "output_type": "execute_result",
          "data": {
            "text/plain": [
              "'1.22.4'"
            ],
            "application/vnd.google.colaboratory.intrinsic+json": {
              "type": "string"
            }
          },
          "metadata": {},
          "execution_count": 69
        }
      ],
      "source": [
        "\n",
        "import pandas as pd\n",
        "import numpy\n",
        "import matplotlib.pyplot as plt\n",
        "numpy.__version__\n"
      ]
    },
    {
      "cell_type": "code",
      "source": [
        "path=\"/content/My_Drive/MyDrive/Classroom/2014 and 2015 CSM dataset.csv\"\n",
        "df=pd.read_csv(path,header=None)\n"
      ],
      "metadata": {
        "id": "MbB60-WArjnT"
      },
      "execution_count": 21,
      "outputs": []
    },
    {
      "cell_type": "code",
      "source": [
        "df.describe()"
      ],
      "metadata": {
        "colab": {
          "base_uri": "https://localhost:8080/",
          "height": 175
        },
        "id": "D_tALQ92rvFT",
        "outputId": "de2d5af6-6ac3-4650-d5b9-219d47152326"
      },
      "execution_count": 22,
      "outputs": [
        {
          "output_type": "execute_result",
          "data": {
            "text/plain": [
              "           0     1    2    3          4         5     6    7    8      9   \\\n",
              "count     232   232  232  232        232       231   222  232  232    232   \n",
              "unique    232     3   46   12        216       105   201    8   37    232   \n",
              "top     Movie  2014  6.6    1  102000000  50000000  3003    1    0  Views   \n",
              "freq        1   163   14   65          2        10     3  188   83      1   \n",
              "\n",
              "          10   11   12       13  \n",
              "count    232  232  232      197  \n",
              "unique   228  204  214      191  \n",
              "top     4632    1    1  1800000  \n",
              "freq       2    5    5        2  "
            ],
            "text/html": [
              "\n",
              "  <div id=\"df-c851c833-dadb-4e4a-a2e6-1748d333102e\">\n",
              "    <div class=\"colab-df-container\">\n",
              "      <div>\n",
              "<style scoped>\n",
              "    .dataframe tbody tr th:only-of-type {\n",
              "        vertical-align: middle;\n",
              "    }\n",
              "\n",
              "    .dataframe tbody tr th {\n",
              "        vertical-align: top;\n",
              "    }\n",
              "\n",
              "    .dataframe thead th {\n",
              "        text-align: right;\n",
              "    }\n",
              "</style>\n",
              "<table border=\"1\" class=\"dataframe\">\n",
              "  <thead>\n",
              "    <tr style=\"text-align: right;\">\n",
              "      <th></th>\n",
              "      <th>0</th>\n",
              "      <th>1</th>\n",
              "      <th>2</th>\n",
              "      <th>3</th>\n",
              "      <th>4</th>\n",
              "      <th>5</th>\n",
              "      <th>6</th>\n",
              "      <th>7</th>\n",
              "      <th>8</th>\n",
              "      <th>9</th>\n",
              "      <th>10</th>\n",
              "      <th>11</th>\n",
              "      <th>12</th>\n",
              "      <th>13</th>\n",
              "    </tr>\n",
              "  </thead>\n",
              "  <tbody>\n",
              "    <tr>\n",
              "      <th>count</th>\n",
              "      <td>232</td>\n",
              "      <td>232</td>\n",
              "      <td>232</td>\n",
              "      <td>232</td>\n",
              "      <td>232</td>\n",
              "      <td>231</td>\n",
              "      <td>222</td>\n",
              "      <td>232</td>\n",
              "      <td>232</td>\n",
              "      <td>232</td>\n",
              "      <td>232</td>\n",
              "      <td>232</td>\n",
              "      <td>232</td>\n",
              "      <td>197</td>\n",
              "    </tr>\n",
              "    <tr>\n",
              "      <th>unique</th>\n",
              "      <td>232</td>\n",
              "      <td>3</td>\n",
              "      <td>46</td>\n",
              "      <td>12</td>\n",
              "      <td>216</td>\n",
              "      <td>105</td>\n",
              "      <td>201</td>\n",
              "      <td>8</td>\n",
              "      <td>37</td>\n",
              "      <td>232</td>\n",
              "      <td>228</td>\n",
              "      <td>204</td>\n",
              "      <td>214</td>\n",
              "      <td>191</td>\n",
              "    </tr>\n",
              "    <tr>\n",
              "      <th>top</th>\n",
              "      <td>Movie</td>\n",
              "      <td>2014</td>\n",
              "      <td>6.6</td>\n",
              "      <td>1</td>\n",
              "      <td>102000000</td>\n",
              "      <td>50000000</td>\n",
              "      <td>3003</td>\n",
              "      <td>1</td>\n",
              "      <td>0</td>\n",
              "      <td>Views</td>\n",
              "      <td>4632</td>\n",
              "      <td>1</td>\n",
              "      <td>1</td>\n",
              "      <td>1800000</td>\n",
              "    </tr>\n",
              "    <tr>\n",
              "      <th>freq</th>\n",
              "      <td>1</td>\n",
              "      <td>163</td>\n",
              "      <td>14</td>\n",
              "      <td>65</td>\n",
              "      <td>2</td>\n",
              "      <td>10</td>\n",
              "      <td>3</td>\n",
              "      <td>188</td>\n",
              "      <td>83</td>\n",
              "      <td>1</td>\n",
              "      <td>2</td>\n",
              "      <td>5</td>\n",
              "      <td>5</td>\n",
              "      <td>2</td>\n",
              "    </tr>\n",
              "  </tbody>\n",
              "</table>\n",
              "</div>\n",
              "      <button class=\"colab-df-convert\" onclick=\"convertToInteractive('df-c851c833-dadb-4e4a-a2e6-1748d333102e')\"\n",
              "              title=\"Convert this dataframe to an interactive table.\"\n",
              "              style=\"display:none;\">\n",
              "        \n",
              "  <svg xmlns=\"http://www.w3.org/2000/svg\" height=\"24px\"viewBox=\"0 0 24 24\"\n",
              "       width=\"24px\">\n",
              "    <path d=\"M0 0h24v24H0V0z\" fill=\"none\"/>\n",
              "    <path d=\"M18.56 5.44l.94 2.06.94-2.06 2.06-.94-2.06-.94-.94-2.06-.94 2.06-2.06.94zm-11 1L8.5 8.5l.94-2.06 2.06-.94-2.06-.94L8.5 2.5l-.94 2.06-2.06.94zm10 10l.94 2.06.94-2.06 2.06-.94-2.06-.94-.94-2.06-.94 2.06-2.06.94z\"/><path d=\"M17.41 7.96l-1.37-1.37c-.4-.4-.92-.59-1.43-.59-.52 0-1.04.2-1.43.59L10.3 9.45l-7.72 7.72c-.78.78-.78 2.05 0 2.83L4 21.41c.39.39.9.59 1.41.59.51 0 1.02-.2 1.41-.59l7.78-7.78 2.81-2.81c.8-.78.8-2.07 0-2.86zM5.41 20L4 18.59l7.72-7.72 1.47 1.35L5.41 20z\"/>\n",
              "  </svg>\n",
              "      </button>\n",
              "      \n",
              "  <style>\n",
              "    .colab-df-container {\n",
              "      display:flex;\n",
              "      flex-wrap:wrap;\n",
              "      gap: 12px;\n",
              "    }\n",
              "\n",
              "    .colab-df-convert {\n",
              "      background-color: #E8F0FE;\n",
              "      border: none;\n",
              "      border-radius: 50%;\n",
              "      cursor: pointer;\n",
              "      display: none;\n",
              "      fill: #1967D2;\n",
              "      height: 32px;\n",
              "      padding: 0 0 0 0;\n",
              "      width: 32px;\n",
              "    }\n",
              "\n",
              "    .colab-df-convert:hover {\n",
              "      background-color: #E2EBFA;\n",
              "      box-shadow: 0px 1px 2px rgba(60, 64, 67, 0.3), 0px 1px 3px 1px rgba(60, 64, 67, 0.15);\n",
              "      fill: #174EA6;\n",
              "    }\n",
              "\n",
              "    [theme=dark] .colab-df-convert {\n",
              "      background-color: #3B4455;\n",
              "      fill: #D2E3FC;\n",
              "    }\n",
              "\n",
              "    [theme=dark] .colab-df-convert:hover {\n",
              "      background-color: #434B5C;\n",
              "      box-shadow: 0px 1px 3px 1px rgba(0, 0, 0, 0.15);\n",
              "      filter: drop-shadow(0px 1px 2px rgba(0, 0, 0, 0.3));\n",
              "      fill: #FFFFFF;\n",
              "    }\n",
              "  </style>\n",
              "\n",
              "      <script>\n",
              "        const buttonEl =\n",
              "          document.querySelector('#df-c851c833-dadb-4e4a-a2e6-1748d333102e button.colab-df-convert');\n",
              "        buttonEl.style.display =\n",
              "          google.colab.kernel.accessAllowed ? 'block' : 'none';\n",
              "\n",
              "        async function convertToInteractive(key) {\n",
              "          const element = document.querySelector('#df-c851c833-dadb-4e4a-a2e6-1748d333102e');\n",
              "          const dataTable =\n",
              "            await google.colab.kernel.invokeFunction('convertToInteractive',\n",
              "                                                     [key], {});\n",
              "          if (!dataTable) return;\n",
              "\n",
              "          const docLinkHtml = 'Like what you see? Visit the ' +\n",
              "            '<a target=\"_blank\" href=https://colab.research.google.com/notebooks/data_table.ipynb>data table notebook</a>'\n",
              "            + ' to learn more about interactive tables.';\n",
              "          element.innerHTML = '';\n",
              "          dataTable['output_type'] = 'display_data';\n",
              "          await google.colab.output.renderOutput(dataTable, element);\n",
              "          const docLink = document.createElement('div');\n",
              "          docLink.innerHTML = docLinkHtml;\n",
              "          element.appendChild(docLink);\n",
              "        }\n",
              "      </script>\n",
              "    </div>\n",
              "  </div>\n",
              "  "
            ]
          },
          "metadata": {},
          "execution_count": 22
        }
      ]
    },
    {
      "cell_type": "code",
      "source": [
        "import pandas as pd\n",
        "from sklearn.ensemble import RandomForestClassifier\n",
        "from sklearn.metrics import classification_report\n",
        "from sklearn.model_selection import train_test_split\n",
        "from sklearn.impute import SimpleImputer\n",
        "\n",
        "\n",
        "df = pd.read_csv('/content/My_Drive/MyDrive/Classroom/2014 and 2015 CSM dataset (1).csv')\n",
        "\n",
        "\n",
        "X = df[['Budget', 'Genre', 'Year']]\n",
        "y = df['Gross']\n",
        "\n",
        "\n",
        "X = pd.get_dummies(X)\n",
        "\n",
        "\n",
        "imputer = SimpleImputer(strategy='mean')\n",
        "X = imputer.fit_transform(X)\n",
        "\n",
        "\n",
        "X_train, X_test, y_train, y_test = train_test_split(X, y, test_size=0.2, random_state=42)\n",
        "\n",
        "rfc = RandomForestClassifier()\n",
        "rfc.fit(X_train, y_train)\n",
        "\n",
        "y_pred = rfc.predict(X_test)\n",
        "\n",
        "\n",
        "cr = classification_report(y_test, y_pred)\n",
        "print('Classification Report:', cr)\n"
      ],
      "metadata": {
        "colab": {
          "base_uri": "https://localhost:8080/"
        },
        "id": "zJXzKtKkKHbQ",
        "outputId": "7aff839b-e0d1-4f67-aff6-8a2c3242251c"
      },
      "execution_count": 29,
      "outputs": [
        {
          "output_type": "stream",
          "name": "stdout",
          "text": [
            "Classification Report:               precision    recall  f1-score   support\n",
            "\n",
            "        5000       0.00      0.00      0.00       1.0\n",
            "        9840       0.00      0.00      0.00       0.0\n",
            "       11800       0.00      0.00      0.00       1.0\n",
            "       22500       0.00      0.00      0.00       1.0\n",
            "       35700       0.00      0.00      0.00       1.0\n",
            "       37400       0.00      0.00      0.00       0.0\n",
            "       72300       0.00      0.00      0.00       1.0\n",
            "      129000       0.00      0.00      0.00       1.0\n",
            "      131000       0.00      0.00      0.00       0.0\n",
            "      275000       0.00      0.00      0.00       0.0\n",
            "      348000       0.00      0.00      0.00       0.0\n",
            "      512000       0.00      0.00      0.00       0.0\n",
            "      717000       0.00      0.00      0.00       1.0\n",
            "     1110000       0.00      0.00      0.00       1.0\n",
            "     1210000       0.00      0.00      0.00       1.0\n",
            "     2430000       0.00      0.00      0.00       1.0\n",
            "     2450000       0.00      0.00      0.00       0.0\n",
            "     3590000       0.00      0.00      0.00       0.0\n",
            "     4190000       0.00      0.00      0.00       1.0\n",
            "     6370000       0.00      0.00      0.00       1.0\n",
            "     8090000       0.00      0.00      0.00       0.0\n",
            "    10200000       0.00      0.00      0.00       0.0\n",
            "    10400000       0.00      0.00      0.00       1.0\n",
            "    10500000       0.00      0.00      0.00       1.0\n",
            "    10700000       0.00      0.00      0.00       0.0\n",
            "    12300000       0.00      0.00      0.00       0.0\n",
            "    13800000       0.00      0.00      0.00       1.0\n",
            "    14000000       0.00      0.00      0.00       0.0\n",
            "    16100000       0.00      0.00      0.00       1.0\n",
            "    17200000       0.00      0.00      0.00       0.0\n",
            "    21600000       0.00      0.00      0.00       1.0\n",
            "    22300000       0.00      0.00      0.00       0.0\n",
            "    23400000       0.00      0.00      0.00       0.0\n",
            "    25000000       0.00      0.00      0.00       1.0\n",
            "    25400000       0.00      0.00      0.00       0.0\n",
            "    26000000       0.00      0.00      0.00       1.0\n",
            "    26500000       0.00      0.00      0.00       1.0\n",
            "    26800000       0.00      0.00      0.00       1.0\n",
            "    30100000       0.00      0.00      0.00       1.0\n",
            "    31400000       0.00      0.00      0.00       1.0\n",
            "    33300000       0.00      0.00      0.00       1.0\n",
            "    34500000       0.00      0.00      0.00       1.0\n",
            "    36100000       0.00      0.00      0.00       1.0\n",
            "    36400000       0.00      0.00      0.00       0.0\n",
            "    39300000       0.00      0.00      0.00       1.0\n",
            "    44100000       0.00      0.00      0.00       1.0\n",
            "    45100000       0.00      0.00      0.00       0.0\n",
            "    47000000       0.00      0.00      0.00       1.0\n",
            "    47100000       0.00      0.00      0.00       0.0\n",
            "    47400000       0.00      0.00      0.00       0.0\n",
            "    48600000       0.00      0.00      0.00       1.0\n",
            "    49500000       0.00      0.00      0.00       1.0\n",
            "    50200000       0.00      0.00      0.00       1.0\n",
            "    54200000       0.00      0.00      0.00       1.0\n",
            "    58600000       0.00      0.00      0.00       1.0\n",
            "    59200000       0.00      0.00      0.00       0.0\n",
            "    65900000       0.00      0.00      0.00       1.0\n",
            "    71000000       0.00      0.00      0.00       0.0\n",
            "    72700000       0.00      0.00      0.00       0.0\n",
            "    78000000       0.00      0.00      0.00       0.0\n",
            "    82400000       0.00      0.00      0.00       1.0\n",
            "    89400000       0.00      0.00      0.00       1.0\n",
            "    91100000       0.00      0.00      0.00       0.0\n",
            "    91400000       0.00      0.00      0.00       0.0\n",
            "   101000000       0.00      0.00      0.00       1.0\n",
            "   102000000       0.00      0.00      0.00       0.0\n",
            "   105000000       0.00      0.00      0.00       1.0\n",
            "   114000000       0.00      0.00      0.00       0.0\n",
            "   125000000       0.00      0.00      0.00       1.0\n",
            "   128000000       0.00      0.00      0.00       0.0\n",
            "   135000000       0.00      0.00      0.00       1.0\n",
            "   150000000       0.00      0.00      0.00       0.0\n",
            "   151000000       0.00      0.00      0.00       1.0\n",
            "   153000000       0.00      0.00      0.00       0.0\n",
            "   166000000       0.00      0.00      0.00       0.0\n",
            "   168000000       0.00      0.00      0.00       1.0\n",
            "   177000000       0.00      0.00      0.00       1.0\n",
            "   183000000       0.00      0.00      0.00       0.0\n",
            "   191000000       0.00      0.00      0.00       0.0\n",
            "   201000000       0.00      0.00      0.00       0.0\n",
            "   222000000       0.00      0.00      0.00       1.0\n",
            "   234000000       0.00      0.00      0.00       0.0\n",
            "   245000000       0.00      0.00      0.00       1.0\n",
            "   337000000       0.00      0.00      0.00       1.0\n",
            "\n",
            "    accuracy                           0.00      47.0\n",
            "   macro avg       0.00      0.00      0.00      47.0\n",
            "weighted avg       0.00      0.00      0.00      47.0\n",
            "\n"
          ]
        },
        {
          "output_type": "stream",
          "name": "stderr",
          "text": [
            "/usr/local/lib/python3.9/dist-packages/sklearn/metrics/_classification.py:1344: UndefinedMetricWarning: Precision and F-score are ill-defined and being set to 0.0 in labels with no predicted samples. Use `zero_division` parameter to control this behavior.\n",
            "  _warn_prf(average, modifier, msg_start, len(result))\n",
            "/usr/local/lib/python3.9/dist-packages/sklearn/metrics/_classification.py:1344: UndefinedMetricWarning: Recall and F-score are ill-defined and being set to 0.0 in labels with no true samples. Use `zero_division` parameter to control this behavior.\n",
            "  _warn_prf(average, modifier, msg_start, len(result))\n",
            "/usr/local/lib/python3.9/dist-packages/sklearn/metrics/_classification.py:1344: UndefinedMetricWarning: Precision and F-score are ill-defined and being set to 0.0 in labels with no predicted samples. Use `zero_division` parameter to control this behavior.\n",
            "  _warn_prf(average, modifier, msg_start, len(result))\n",
            "/usr/local/lib/python3.9/dist-packages/sklearn/metrics/_classification.py:1344: UndefinedMetricWarning: Recall and F-score are ill-defined and being set to 0.0 in labels with no true samples. Use `zero_division` parameter to control this behavior.\n",
            "  _warn_prf(average, modifier, msg_start, len(result))\n",
            "/usr/local/lib/python3.9/dist-packages/sklearn/metrics/_classification.py:1344: UndefinedMetricWarning: Precision and F-score are ill-defined and being set to 0.0 in labels with no predicted samples. Use `zero_division` parameter to control this behavior.\n",
            "  _warn_prf(average, modifier, msg_start, len(result))\n",
            "/usr/local/lib/python3.9/dist-packages/sklearn/metrics/_classification.py:1344: UndefinedMetricWarning: Recall and F-score are ill-defined and being set to 0.0 in labels with no true samples. Use `zero_division` parameter to control this behavior.\n",
            "  _warn_prf(average, modifier, msg_start, len(result))\n"
          ]
        }
      ]
    },
    {
      "cell_type": "markdown",
      "source": [
        "Random Forest is a powerful and widely used ensemble learning method that combines multiple decision trees to produce a more accurate and robust prediction model. In Random Forest, each decision tree is built on a random subset of the training data and a random subset of the features, which helps to reduce overfitting and increase generalization performance.\n",
        "\n",
        "The working of Random Forest Classification can be summarized in the following steps:\n",
        "\n",
        "Randomly select a subset of the training data and a subset of the features.\n",
        "Build a decision tree on the selected data and features using a criterion (such as entropy or Gini impurity) to split the data into subsets that are as pure as possible with respect to the target variable.\n",
        "Repeat steps 1 and 2 multiple times to create a forest of decision trees.\n",
        "For a new data point, make a prediction by aggregating the predictions of all the decision trees in the forest. This can be done by either majority voting (for classification problems) or averaging (for regression problems).\n",
        "Random Forest Classification has several advantages over other classification techniques:\n",
        "\n",
        "It is robust to overfitting and can handle high-dimensional data.\n",
        "It can handle both categorical and continuous input variables.\n",
        "It can estimate variable importance, which can help in feature selection and interpretation.\n",
        "However, Random Forest Classification also has some limitations:\n",
        "\n",
        "It may not perform well on imbalanced datasets where the number of samples in each class is not equal.\n",
        "It may not work well with noisy or irrelevant features.\n",
        "It can be computationally expensive for large datasets or complex models.\n",
        "Overall, Random Forest Classification is a powerful and versatile ML technique that can be applied to a wide range of classification problems, including the classification of movie revenue ranges based on budget, genre, and release date."
      ],
      "metadata": {
        "id": "0QpL9DCgLgyP"
      }
    },
    {
      "cell_type": "code",
      "source": [
        "import pandas as pd\n",
        "import numpy as np\n",
        "from sklearn.impute import SimpleImputer\n",
        "from sklearn.preprocessing import MinMaxScaler\n",
        "\n",
        "\n",
        "df = pd.read_csv('/content/My_Drive/MyDrive/Classroom/2014 and 2015 CSM dataset (1).csv')\n",
        "\n",
        "\n",
        "imputer = SimpleImputer(strategy='median')\n",
        "df['Budget'] = imputer.fit_transform(df[['Budget']])\n",
        "df = df.dropna()\n",
        "\n",
        "\n",
        "Q1 = df['Budget'].quantile(0.25)\n",
        "Q3 = df['Budget'].quantile(0.75)\n",
        "IQR = Q3 - Q1\n",
        "df = df[(df['Budget'] >= Q1 - 1.5*IQR) & (df['Budget'] <= Q3 + 1.5*IQR)]\n",
        "\n",
        "scaler = MinMaxScaler()\n",
        "df['Budget'] = scaler.fit_transform(df[['Budget']])\n",
        "\n",
        "\n",
        "print(df.head())\n"
      ],
      "metadata": {
        "colab": {
          "base_uri": "https://localhost:8080/"
        },
        "id": "-bEfoKujzmqT",
        "outputId": "94327d81-8df0-41b7-ed81-e12c666c3012"
      },
      "execution_count": 33,
      "outputs": [
        {
          "output_type": "stream",
          "name": "stdout",
          "text": [
            "                    Movie  Year  Ratings  Genre      Gross    Budget  Screens  \\\n",
            "0                 13 Sins  2014      6.3      8       9130  0.025366     45.0   \n",
            "1          22 Jump Street  2014      7.1      1  192000000  0.322275   3306.0   \n",
            "2          3 Days to Kill  2014      6.2      1   30700000  0.180275   2872.0   \n",
            "3  300: Rise of an Empire  2014      6.3      1  106000000  0.709546   3470.0   \n",
            "4       A Haunted House 2  2014      4.7      8   17300000  0.022139   2310.0   \n",
            "\n",
            "   Sequel  Sentiment    Views  Likes  Dislikes  Comments  Aggregate Followers  \n",
            "0       1          0  3280543   4632       425       636            1120000.0  \n",
            "1       2          2   583289   3465        61       186           12350000.0  \n",
            "2       1          0   304861    328        34        47             483000.0  \n",
            "3       2          0   452917   2429       132       590             568000.0  \n",
            "4       2          0  3145573  12163       610      1082            1923800.0  \n"
          ]
        }
      ]
    },
    {
      "cell_type": "markdown",
      "source": [
        "5. Divide Data set in to training and validation sets"
      ],
      "metadata": {
        "id": "dCYcUtJIOzPM"
      }
    },
    {
      "cell_type": "code",
      "source": [
        "import pandas as pd\n",
        "from sklearn.model_selection import train_test_split\n",
        "\n",
        "df = pd.read_csv('/content/My_Drive/MyDrive/Classroom/2014 and 2015 CSM dataset (1).csv')\n",
        "\n",
        "\n",
        "df = df.drop(['Movie', 'Gross', 'Budget', 'Screens', 'Likes'], axis=1)\n",
        "\n",
        "\n",
        "X = df.drop(['Ratings'], axis=1)\n",
        "y = df['Ratings']\n",
        "X_train, X_valid, y_train, y_valid = train_test_split(X, y, test_size=0.2, random_state=42)\n",
        "\n",
        "print('Training set shape:', X_train.shape, y_train.shape)\n",
        "print('Validation set shape:', X_valid.shape, y_valid.shape)\n"
      ],
      "metadata": {
        "colab": {
          "base_uri": "https://localhost:8080/"
        },
        "id": "ouCft5C0OIz0",
        "outputId": "3eeb9280-734f-41c7-919b-4940fdc89bb0"
      },
      "execution_count": 36,
      "outputs": [
        {
          "output_type": "stream",
          "name": "stdout",
          "text": [
            "Training set shape: (184, 8) (184,)\n",
            "Validation set shape: (47, 8) (47,)\n"
          ]
        }
      ]
    },
    {
      "cell_type": "markdown",
      "source": [
        "6. Perform training "
      ],
      "metadata": {
        "id": "qqUe9vduWYa0"
      }
    },
    {
      "cell_type": "code",
      "source": [
        "from sklearn.impute import SimpleImputer\n",
        "\n",
        "\n",
        "imputer = SimpleImputer(strategy='mean')\n",
        "\n",
        "X_train_imputed = imputer.fit_transform(X_train)\n",
        "X_valid_imputed = imputer.transform(X_valid)\n"
      ],
      "metadata": {
        "id": "kst4VYbGO_Lj"
      },
      "execution_count": 38,
      "outputs": []
    },
    {
      "cell_type": "markdown",
      "source": [
        "7. Perform Validation"
      ],
      "metadata": {
        "id": "3Oh9VryCWbEz"
      }
    },
    {
      "cell_type": "code",
      "source": [
        "\n",
        "num_bins = 5\n",
        "\n",
        "\n",
        "y_train_binned = pd.cut(y_train, bins=num_bins, labels=False)\n",
        "y_valid_binned = pd.cut(y_valid, bins=num_bins, labels=False)\n",
        "\n",
        "\n",
        "rfc.fit(X_train_imputed, y_train_binned)\n",
        "\n",
        "valid_acc = rfc.score(X_valid_imputed, y_valid_binned)\n",
        "print('Validation accuracy:', valid_acc)\n"
      ],
      "metadata": {
        "colab": {
          "base_uri": "https://localhost:8080/"
        },
        "id": "xrQkDsvxPSOa",
        "outputId": "47fd0e9f-ac1c-4946-b8c8-5da88ace1251"
      },
      "execution_count": 41,
      "outputs": [
        {
          "output_type": "stream",
          "name": "stdout",
          "text": [
            "Validation accuracy: 0.3191489361702128\n"
          ]
        }
      ]
    },
    {
      "cell_type": "markdown",
      "source": [
        "8. Report Accuracy of your trained ML Model"
      ],
      "metadata": {
        "id": "Wnr4FY9CWKME"
      }
    },
    {
      "cell_type": "code",
      "source": [
        "from sklearn.ensemble import RandomForestRegressor\n",
        "\n",
        "\n",
        "df = pd.read_csv('/content/My_Drive/MyDrive/Classroom/2014 and 2015 CSM dataset (1).csv')\n",
        "\n",
        "df.drop(['Movie', 'Year', 'Budget', 'Ratings', 'Likes'], axis=1, inplace=True)\n",
        "\n",
        "\n",
        "df.fillna(df.median(), inplace=True)\n",
        "\n",
        "\n",
        "Q1 = df.quantile(0.25)\n",
        "Q3 = df.quantile(0.75)\n",
        "IQR = Q3 - Q1\n",
        "df = df[~((df < (Q1 - 1.5 * IQR)) |(df > (Q3 + 1.5 * IQR))).any(axis=1)]\n",
        "\n",
        "\n",
        "X_train, X_val, y_train, y_val = train_test_split(df.drop('Gross', axis=1), df['Gross'], test_size=0.2, random_state=42)\n",
        "\n",
        "rf_clf = RandomForestRegressor(n_estimators=100, random_state=42)\n",
        "rf_clf.fit(X_train, y_train)\n",
        "\n",
        "y_pred = rf_clf.predict(X_val)\n",
        "\n",
        "\n",
        "accuracy = rf_clf.score(X_val, y_val)\n",
        "print(\"Accuracy: {:.2f}%\".format(accuracy * 100))\n"
      ],
      "metadata": {
        "colab": {
          "base_uri": "https://localhost:8080/"
        },
        "id": "NqG1Cmr_VXFk",
        "outputId": "ed136a74-ea25-47af-e484-2e996551dd47"
      },
      "execution_count": 68,
      "outputs": [
        {
          "output_type": "stream",
          "name": "stdout",
          "text": [
            "Accuracy: 56.50%\n"
          ]
        }
      ]
    }
  ]
}